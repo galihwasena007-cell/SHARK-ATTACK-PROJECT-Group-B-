{
  "nbformat": 4,
  "nbformat_minor": 0,
  "metadata": {
    "colab": {
      "provenance": []
    },
    "kernelspec": {
      "name": "python3",
      "display_name": "Python 3"
    },
    "language_info": {
      "name": "python"
    }
  },
  "cells": [
    {
      "cell_type": "code",
      "source": [
        "from google.colab import files\n",
        "uploaded = files.upload()\n",
        "sharks = pd.read_excel('GSAF5.xls')"
      ],
      "metadata": {
        "id": "CBy4ZtTRYxfI"
      },
      "execution_count": null,
      "outputs": []
    },
    {
      "cell_type": "code",
      "execution_count": null,
      "metadata": {
        "id": "O4oWsKJEJEZV"
      },
      "outputs": [],
      "source": [
        "# Import file and requred libraries\n",
        "import pandas as pd\n",
        "import numpy as np\n",
        "import matplotlib.pyplot as plt\n",
        "#sharks = pd.read_excel('c:\\Users\\igrav\\Desktop\\ironhack\\Week2\\Mini_Pro_2')"
      ]
    },
    {
      "cell_type": "code",
      "source": [
        "# Cleaning Data Frame deleting unnessesary columns\n",
        "sharks = sharks.drop(['pdf', 'href formula', 'href', 'Case Number', 'Case Number.1',\n",
        "       'original order', 'Unnamed: 21', 'Unnamed: 22', 'Injury', 'Species ','Name'], axis=1)"
      ],
      "metadata": {
        "id": "EW-Hr3WrJtMv"
      },
      "execution_count": null,
      "outputs": []
    },
    {
      "cell_type": "code",
      "source": [
        "# Cleaning Age Column\n",
        "\n",
        "sharks['Age'] = sharks['Age'].astype(str)\n",
        "\n",
        "\n",
        "# Convert '30+' and similar formats\n",
        "sharks['Age'] = sharks['Age'].apply(lambda x: x.replace('+', '') if '+' in x else x)\n",
        "\n",
        "# Replace '?' with NaN\n",
        "sharks['Age'] = sharks['Age'].replace('?', np.nan)\n",
        "\n",
        "# At this point, convert the column to numeric, coercing errors into NaN\n",
        "sharks['Age'] = pd.to_numeric(sharks['Age'], errors='coerce')\n",
        "\n",
        "# fill NaN with the mean age\n",
        "mean_age = sharks['Age'].mean()\n",
        "sharks['Age'] = sharks['Age'].fillna(mean_age)\n",
        "sharks['Age'] = sharks['Age'].astype(int)"
      ],
      "metadata": {
        "id": "FS0165GUJ5De"
      },
      "execution_count": null,
      "outputs": []
    },
    {
      "cell_type": "code",
      "source": [
        "# Cleaning Fatal column and created new one\n",
        "fatal_mapping = fatal_mapping = {\n",
        "    ' N':'N',  'n':'N', 'Nq':'N', 'N':'N', 'N ':'N',\n",
        "    2017:'Y', 'Y x 2':'Y', 'y':'Y', 'F':'Y', 'M':'Y'\n",
        "}\n",
        "\n",
        "sharks['Fatal Y/N'] = sharks['Fatal Y/N'].map(fatal_mapping).fillna(sharks['Fatal Y/N'])\n",
        "\n",
        "fatal_mapping = {'N': 0, 'Y': 1, 'UNKNOWN': 1}  # Mapping value for continuity\n",
        "\n",
        "# Apply mapping\n",
        "sharks['Fatal'] = sharks['Fatal Y/N'].map(fatal_mapping)\n",
        "\n",
        "# Drop rows with NaN values\n",
        "sharks.dropna(subset=['Fatal'], inplace=True)\n",
        "\n",
        "# Convert to int\n",
        "sharks['Fatal'] = sharks['Fatal'].astype(int)"
      ],
      "metadata": {
        "id": "mZQc4X2ZKRvv"
      },
      "execution_count": null,
      "outputs": []
    },
    {
      "cell_type": "code",
      "source": [
        "# Cleaning Sex\n",
        "sex_mapping = sex_mapping = {\n",
        "    'M':'M',' M':'M','M ':'M','m':'M', 'M x 2':'M', 'N':'M',\n",
        "    'F':'F', 'F ':'F', '.':'F', 'lli':'F'\n",
        "}\n",
        "\n",
        "sharks['Sex'] = sharks['Sex'].map(sex_mapping).fillna(sharks['Sex'])"
      ],
      "metadata": {
        "id": "VYrEg5YmKzSC"
      },
      "execution_count": null,
      "outputs": []
    },
    {
      "cell_type": "code",
      "source": [
        "# Cleaning year\n",
        "sharks['Year'] = sharks['Year'].astype(str).str.replace(r'\\.0$', '', regex=True)\n",
        "\n",
        "# Step 2: Replace or fill NaNs if necessary before converting\n",
        "sharks['Year'] = sharks['Year'].replace('nan', np.nan)  # Ensure 'nan' strings become actual NaNs\n",
        "sharks['Year'] = sharks['Year'].ffill()  # Forward fill NaNs; choose a method to handle them\n",
        "\n",
        "# Step 3: Convert 'Year' to integer type (Optionally, nullable integer dtype)\n",
        "sharks['Year'] = sharks['Year'].astype('Int64')\n",
        "sharks = sharks[(sharks['Year'] >= 1950) & (sharks['Year'] <= 2025)]"
      ],
      "metadata": {
        "id": "p5xMhewnK8fy"
      },
      "execution_count": null,
      "outputs": []
    },
    {
      "cell_type": "code",
      "source": [
        "# Cleaning Activity\n",
        "sharks['Activity'] = sharks['Activity'].str.lower().str.strip()\n",
        "\n",
        "\n",
        "def categorize_activity(activity):\n",
        "    if pd.isna(activity):\n",
        "        return 'Unknown'\n",
        "\n",
        "    if 'surf' in activity:\n",
        "        return 'surfing'\n",
        "    elif 'snorkel' in activity:\n",
        "        return 'snorkeling'\n",
        "    elif 'swim' in activity or 'bath' in activity:\n",
        "        return 'swimming'\n",
        "    elif 'fish' in activity or 'spear' in activity or 'angl' in activity or 'kayak fish' in activity:\n",
        "        return 'fishing'\n",
        "    elif 'dive' in activity or 'scuba' in activity or 'free diving' in activity:\n",
        "        return 'diving'\n",
        "    elif 'wade' in activity:\n",
        "        return 'wading'\n",
        "    elif 'board' in activity or 'boogie board' in activity or 'paddleboard' in activity:\n",
        "        return 'boarding'\n",
        "    elif 'kayak' in activity or 'canoe' in activity:\n",
        "        return 'kayaking'\n",
        "    elif 'standing' in activity or 'floating' in activity:\n",
        "        return 'floating/standing'\n",
        "    else:\n",
        "        return 'Other'\n",
        "\n",
        "# Apply categorization with improved handling\n",
        "sharks['Activity_Categorized'] = sharks['Activity'].apply(categorize_activity)\n",
        "\n",
        "\n",
        "activities_of_interest = [\n",
        "    'surfing', 'snorkeling', 'swimming', 'fishing',\n",
        "    'diving', 'wading', 'boarding', 'kayaking', 'floating/standing', 'Other'\n",
        "]\n",
        "\n"
      ],
      "metadata": {
        "id": "Jqh5Cu4HLDPj"
      },
      "execution_count": null,
      "outputs": []
    },
    {
      "cell_type": "code",
      "source": [
        "#Cleaning State and Location"
      ],
      "metadata": {
        "id": "QEyf_TgHL5_u"
      },
      "execution_count": null,
      "outputs": []
    },
    {
      "cell_type": "code",
      "source": [
        "#Handling null values\n",
        "#Check all null values\n",
        "sharks.isnull().sum().sort_values(ascending=False)\n",
        "#Check for null values in “State” and “Location” column\n",
        "sharks[['State', 'Location']].isnull().sum()\n",
        "#Drop rows where both are null\n",
        "sharks.dropna(subset=['State', 'Location'], how='all', inplace=True)\n",
        "#Manipulate Strings (clean messy text)\n",
        "sharks['State'] = sharks['State'].str.strip().str.title()\n",
        "sharks['Location'] = sharks['Location'].str.strip().str.title()"
      ],
      "metadata": {
        "id": "Mh_qMfqDMFj_"
      },
      "execution_count": null,
      "outputs": []
    },
    {
      "cell_type": "code",
      "source": [
        "#Replace inconsistent or unwanted text\n",
        "#For “State”\n",
        "state_map = {\n",
        "    '“NSW': 'New South Wales',\n",
        "    'Atlantic Ocean near Big Grand Cay': 'Big Grand Cay',\n",
        "    'Milne Bay  Province': 'Maline Bay',\n",
        "    'Near five Cays settlement West Caicos': 'West Caicos',\n",
        "    '?': 'Unknown',\n",
        "    'Between New Ireland & New Britain': 'Offshore New Ireland and New Britain',\n",
        "    'Ba Ria-Vung Tau  Province': 'Ba Ria-Vung Tau Province',\n",
        "    'nan' : 'Unknown'\n",
        "}\n",
        "sharks['State'] = sharks['State'].replace(state_map)\n",
        "\n",
        "#For “Location”\n",
        "location_map = {\n",
        "    'Panama Bay 8ºN, 79ºW': 'Panama Bay',\n",
        "    'Horseshoe reef Key Largo': 'Horseshoe Reef Key Largo',\n",
        "    'North of Grand Bahama near Freeport': 'North of Grand Bahama',\n",
        "    'Below the English fort, Trincomalee': 'Trincomalee',\n",
        "    'Seacliff beach Adelaide': 'Seacliff Adelaide',\n",
        "    'Somewhere between Hatteras and Beaufort': 'Hatteras and Beaufort',\n",
        "    'Vũng Tàu': 'Vung Tau',\n",
        "    'Durban': 'Durban'\n",
        "}\n",
        "sharks['Location'] = sharks['Location'].replace(location_map)"
      ],
      "metadata": {
        "id": "4Ox7q3TAMQgN"
      },
      "execution_count": null,
      "outputs": []
    },
    {
      "cell_type": "code",
      "source": [
        "#Format the Data (standardize text types)\n",
        "sharks['State'] = sharks['State'].astype(str)\n",
        "sharks['Location'] = sharks['Location'].astype(str)"
      ],
      "metadata": {
        "id": "ScG489J6Mecl"
      },
      "execution_count": null,
      "outputs": []
    },
    {
      "cell_type": "code",
      "source": [
        "group_sex_age = sharks.groupby(['Sex', 'Fatal']).agg({'Age':['count', 'mean']})\n",
        "group_sex_age"
      ],
      "metadata": {
        "id": "qitQfHxPbe6n"
      },
      "execution_count": null,
      "outputs": []
    },
    {
      "cell_type": "code",
      "source": [
        "# Extract the 'count' data from the MultiIndex columns\n",
        "age_counts = group_sex_age['Age']['count'].unstack()\n",
        "\n",
        "# Create the bar chart\n",
        "age_counts.plot(kind='bar', figsize=(10, 6))\n",
        "\n",
        "# Add titles and labels\n",
        "plt.title('Number of Shark Attacks by Sex and Fatal Outcome')\n",
        "plt.xlabel('Sex')\n",
        "plt.ylabel('Number of Attacks')\n",
        "plt.xticks(rotation=0)\n",
        "plt.legend(title='Fatal', loc='upper right')\n",
        "plt.grid(axis='y')\n",
        "\n",
        "# Display the chart\n",
        "plt.tight_layout()\n",
        "plt.show()"
      ],
      "metadata": {
        "id": "2f8o7Tiyi3Ak"
      },
      "execution_count": null,
      "outputs": []
    },
    {
      "cell_type": "code",
      "source": [
        "# 1. Fill missing values (will handle 'Nan' later)\n",
        "sharks['Country'] = sharks['Country'].fillna('Unknown')\n",
        "# 2. Convert to string, strip whitespace, split slashes, title case\n",
        "sharks['Country'] = sharks['Country'].astype(str).str.split('/').str[0].str.strip().str.title()\n",
        "# 3. Standardize known duplicates / alternative spellings\n",
        "country_replacements = {\n",
        "    'Maldive Islands': 'Maldives',\n",
        "    'Maldive Island': 'Maldives',\n",
        "    'Trinidad & Tobago': 'Trinidad And Tobago',\n",
        "    'Tobago': 'Trinidad And Tobago',\n",
        "    'Trinidad': 'Trinidad And Tobago',\n",
        "    'St. Martin': 'Saint Martin',\n",
        "    'St Martin': 'Saint Martin',\n",
        "    'St. Maartin': 'Saint Martin',\n",
        "    'St Kitts / Nevis': 'Saint Kitts And Nevis',\n",
        "    'St Helena, British Overseas Territory': 'Saint Helena',\n",
        "    'Reunion Island': 'Reunion',\n",
        "    'Turks & Caicos': 'Turks And Caicos Islands',\n",
        "    'Turks And Caicos': 'Turks And Caicos Islands',\n",
        "    'Bahrein': 'Bahrain',\n",
        "    'Ceylon': 'Sri Lanka',\n",
        "    'Ceylon (Sri Lanka)': 'Sri Lanka',\n",
        "    'Burma': 'Myanmar',\n",
        "    'British West Indies': 'Caribbean',\n",
        "    'British Isles': 'United Kingdom',\n",
        "    'England': 'United Kingdom',\n",
        "    'Scotland': 'United Kingdom',\n",
        "    'British Virgin Islands': 'Virgin Islands, British',\n",
        "    'Usa': 'United States',\n",
        "    'Hawaii': 'United States',\n",
        "    'Georgia': 'United States',\n",
        "    'Mexico ': 'Mexico',\n",
        "    'MeXico': 'Mexico',\n",
        "    'Nicaragua ': 'Nicaragua',\n",
        "    'Philippines ': 'Philippines',\n",
        "    'Columbia': 'Colombia',\n",
        "    'United Arab Emirates (Uae)': 'United Arab Emirates',\n",
        "    'Western Samoa': 'Samoa',\n",
        "    'Virgin Islands, British': 'British Virgin Islands',\n",
        "    'New Guinea': 'Papua New Guinea',\n",
        "    'Nan': None,\n",
        "    'Sudan?': 'Sudan',\n",
        "    'Federated States Of Micronesia': 'Federated States of Micronesia'\n",
        "}\n",
        "sharks['Country'] = sharks['Country'].replace(country_replacements)\n",
        "# 4. Recategorize non-country / vague geographic entries\n",
        "non_countries = [\n",
        "    'Atlantic Ocean', 'Pacific Ocean', 'Indian Ocean', 'Red Sea',\n",
        "    'Tasman Sea', 'Mediterranean Sea', 'Caribbean Sea', 'South China Sea',\n",
        "    'North Atlantic Ocean', 'South Atlantic Ocean', 'Gulf Of Aden',\n",
        "    'Ocean', 'Central Pacific', 'Bay Of Bengal', 'Mid-Atlantic Ocean',\n",
        "    'North Pacific Ocean', 'South Pacific Ocean',\n",
        "    'International Waters', 'The Balkans', 'Persian Gulf', 'Northern Arabian Sea', 'Coral Sea', 'Andaman',\n",
        "    'Diego Garcia', 'Johnston Island', 'New Britain', 'Azores'\n",
        "]\n",
        "sharks['Country'] = sharks['Country'].replace(non_countries, 'International Waters')\n",
        "vague_regions = ['British Overseas Territory', 'Mid Atlantic Ocean', 'Admiralty Islands',\n",
        "                 'Caribbean', 'North Sea', 'Nevis', 'Okinawa', 'Grand Cayman']\n",
        "sharks['Country'] = sharks['Country'].replace(vague_regions, 'Other/Region')\n",
        "# 5. Final strip and title case (ensure consistency)\n",
        "sharks['Country'] = sharks['Country'].str.strip().str.title()\n",
        "# 6. Optional: verify unique entries\n",
        "print(sharks['Country'].unique())"
      ],
      "metadata": {
        "id": "zneK9I2hbshH"
      },
      "execution_count": null,
      "outputs": []
    },
    {
      "cell_type": "code",
      "source": [
        "group_country_fatal = sharks.groupby(['Country']).agg({'Fatal':['count', 'mean']})\n",
        "group_country_fatal"
      ],
      "metadata": {
        "id": "-iDlKMFzcbHA"
      },
      "execution_count": null,
      "outputs": []
    },
    {
      "cell_type": "code",
      "source": [],
      "metadata": {
        "id": "Hb4nrY4ceeL_"
      },
      "execution_count": null,
      "outputs": []
    }
  ]
}